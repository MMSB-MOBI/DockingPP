{
 "cells": [
  {
   "cell_type": "code",
   "execution_count": 9,
   "metadata": {},
   "outputs": [
    {
     "name": "stdout",
     "output_type": "stream",
     "text": [
      "The autoreload extension is already loaded. To reload it, use:\n",
      "  %reload_ext autoreload\n"
     ]
    }
   ],
   "source": [
    "import sys\n",
    "sys.path.append(\"/home/chilpert/Dev/DockingPP_refactoring/src\")\n",
    "import DockingPP\n",
    "\n",
    "%load_ext autoreload\n",
    "%autoreload 2"
   ]
  },
  {
   "cell_type": "code",
   "execution_count": 10,
   "metadata": {},
   "outputs": [],
   "source": [
    "ligand_pdb = \"/home/chilpert/Work/Consensus_rescoring/decoys_bm4_zd3.0.2_6deg_fixed/input_pdbs/1BJ1_l_u.pdb\"\n",
    "receptor_pdb = \"/home/chilpert/Work/Consensus_rescoring/decoys_bm4_zd3.0.2_6deg_fixed/input_pdbs/1BJ1_r_u.pdb\"\n",
    "zdock_results = \"/home/chilpert/Work/Consensus_rescoring/decoys_bm4_zd3.0.2_6deg_fixed/results/1BJ1.zd3.0.2.fg.fixed.out\""
   ]
  },
  {
   "cell_type": "code",
   "execution_count": 11,
   "metadata": {},
   "outputs": [
    {
     "name": "stdout",
     "output_type": "stream",
     "text": [
      "INFO\tloader.py\t== Load zDock results ==\n",
      " path : /home/chilpert/Work/Consensus_rescoring/decoys_bm4_zd3.0.2_6deg_fixed/results/1BJ1.zd3.0.2.fg.fixed.out\n",
      " number of poses : 1000\n",
      "CPU times: user 152 ms, sys: 11.7 ms, total: 164 ms\n",
      "Wall time: 152 ms\n"
     ]
    }
   ],
   "source": [
    "%%time\n",
    "DH = DockingPP.loadZdock(zdock_results, 1000)"
   ]
  },
  {
   "cell_type": "code",
   "execution_count": 12,
   "metadata": {},
   "outputs": [],
   "source": [
    "DH.setReceptor(receptor_pdb)\n",
    "DH.setLigand(ligand_pdb)"
   ]
  },
  {
   "cell_type": "code",
   "execution_count": 13,
   "metadata": {
    "scrolled": true
   },
   "outputs": [
    {
     "name": "stdout",
     "output_type": "stream",
     "text": [
      "INFO\tdockingHandler.py\t== Compute contact map ==\n",
      "number of threads : 1\n",
      "number of poses : 1000\n",
      "distance : 5\n",
      "CPU times: user 1.16 s, sys: 6.21 ms, total: 1.17 s\n",
      "Wall time: 1.17 s\n"
     ]
    }
   ],
   "source": [
    "%%time\n",
    "DH.computeContactMap(1, 1000)"
   ]
  },
  {
   "cell_type": "code",
   "execution_count": 14,
   "metadata": {},
   "outputs": [
    {
     "name": "stdout",
     "output_type": "stream",
     "text": [
      "CPU times: user 3.4 ms, sys: 0 ns, total: 3.4 ms\n",
      "Wall time: 3.41 ms\n"
     ]
    }
   ],
   "source": [
    "%%time\n",
    "DH.computeFrequencies(50)"
   ]
  },
  {
   "cell_type": "code",
   "execution_count": 20,
   "metadata": {},
   "outputs": [],
   "source": [
    "DH.rescorePoses(\"contacts_sum\", 1000)\n",
    "DH.rescorePoses(\"contacts_average\", 1000)\n",
    "DH.rescorePoses(\"contacts_log_sum\", 1000)\n",
    "DH.rescorePoses(\"contacts_square_sum\", 1000)"
   ]
  },
  {
   "cell_type": "code",
   "execution_count": null,
   "metadata": {},
   "outputs": [],
   "source": [
    "for p in DH.poses:\n",
    "    print(p.index, p.rescoring)"
   ]
  },
  {
   "cell_type": "code",
   "execution_count": null,
   "metadata": {},
   "outputs": [],
   "source": [
    "\n"
   ]
  }
 ],
 "metadata": {
  "kernelspec": {
   "display_name": "Python 3",
   "language": "python",
   "name": "python3"
  },
  "language_info": {
   "codemirror_mode": {
    "name": "ipython",
    "version": 3
   },
   "file_extension": ".py",
   "mimetype": "text/x-python",
   "name": "python",
   "nbconvert_exporter": "python",
   "pygments_lexer": "ipython3",
   "version": "3.8.2"
  }
 },
 "nbformat": 4,
 "nbformat_minor": 2
}
