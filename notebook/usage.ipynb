{
 "cells": [
  {
   "cell_type": "code",
   "execution_count": 1,
   "metadata": {},
   "outputs": [],
   "source": [
    "import sys\n",
    "sys.path.append(\"/home/chilpert/Dev/DockingPP_refactoring/src\")\n",
    "import DockingPP\n",
    "\n",
    "%load_ext autoreload\n",
    "%autoreload 2"
   ]
  },
  {
   "cell_type": "code",
   "execution_count": 2,
   "metadata": {},
   "outputs": [],
   "source": [
    "ligand_pdb = \"/home/chilpert/Dev/DockingPP_refactoring/example_data/ZDOCK_examples/1BJ1_l_u.pdb\"\n",
    "receptor_pdb = \"/home/chilpert/Dev/DockingPP_refactoring/example_data/ZDOCK_examples/1BJ1_r_u.pdb\"\n",
    "zdock_results = \"/home/chilpert/Dev/DockingPP_refactoring/example_data/ZDOCK_examples/1BJ1.out\""
   ]
  },
  {
   "cell_type": "code",
   "execution_count": 6,
   "metadata": {},
   "outputs": [
    {
     "name": "stdout",
     "output_type": "stream",
     "text": [
      "INFO\tloader.py\t== Load zDock results ==\n",
      " path : /home/chilpert/Dev/DockingPP_refactoring/example_data/ZDOCK_examples/1BJ1.out\n",
      " number of poses : 100\n"
     ]
    }
   ],
   "source": [
    "DH = DockingPP.loadZdock(zdock_results, 100)"
   ]
  },
  {
   "cell_type": "code",
   "execution_count": 7,
   "metadata": {},
   "outputs": [
    {
     "name": "stdout",
     "output_type": "stream",
     "text": [
      "144\n",
      "1.2\n",
      "(-0.216042, 0.380447, -2.166278)\n",
      "(-1.57, -2.034, 49.514)\n",
      "(25.751, -18.677, -3.221)\n"
     ]
    }
   ],
   "source": [
    "print(DH.grid_dimension)\n",
    "print(DH.step)\n",
    "print(DH.initial_euler)\n",
    "print(DH.baryRec)\n",
    "print(DH.baryLig)"
   ]
  },
  {
   "cell_type": "code",
   "execution_count": 8,
   "metadata": {},
   "outputs": [],
   "source": [
    "DH.setReceptor(receptor_pdb)\n",
    "DH.setLigand(ligand_pdb)"
   ]
  },
  {
   "cell_type": "code",
   "execution_count": 9,
   "metadata": {},
   "outputs": [
    {
     "name": "stdout",
     "output_type": "stream",
     "text": [
      "INFO\tdockingHandler.py\t== Compute contact map ==\n",
      "number of threads : 8\n",
      "number of poses : 100\n"
     ]
    }
   ],
   "source": [
    "DH.computeContactMap(8, 100)"
   ]
  },
  {
   "cell_type": "code",
   "execution_count": null,
   "metadata": {},
   "outputs": [],
   "source": []
  }
 ],
 "metadata": {
  "kernelspec": {
   "display_name": "Python 3",
   "language": "python",
   "name": "python3"
  },
  "language_info": {
   "codemirror_mode": {
    "name": "ipython",
    "version": 3
   },
   "file_extension": ".py",
   "mimetype": "text/x-python",
   "name": "python",
   "nbconvert_exporter": "python",
   "pygments_lexer": "ipython3",
   "version": "3.8.2"
  }
 },
 "nbformat": 4,
 "nbformat_minor": 2
}
