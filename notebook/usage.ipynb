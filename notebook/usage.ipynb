{
 "cells": [
  {
   "cell_type": "code",
   "execution_count": 3,
   "metadata": {},
   "outputs": [],
   "source": [
    "import sys\n",
    "sys.path.append(\"/Users/chilpert/Dev/DockingPP/src/\")\n",
    "import DockingPP\n",
    "\n",
    "%load_ext autoreload\n",
    "%autoreload 2"
   ]
  },
  {
   "cell_type": "code",
   "execution_count": 4,
   "metadata": {},
   "outputs": [],
   "source": [
    "ligand_pdb = \"../example_data/ZDOCK_examples/1BJ1_l_u.pdb\"\n",
    "receptor_pdb = \"../example_data/ZDOCK_examples/1BJ1_r_u.pdb\"\n",
    "zdock_results = \"../example_data/ZDOCK_examples/1BJ1.out\""
   ]
  },
  {
   "cell_type": "code",
   "execution_count": 5,
   "metadata": {},
   "outputs": [
    {
     "name": "stdout",
     "output_type": "stream",
     "text": [
      "INFO\tloader.py\t== Load zDock results ==\n",
      " path : ../example_data/ZDOCK_examples/1BJ1.out\n",
      " number of poses : 1000\n",
      "CPU times: user 95.7 ms, sys: 4.09 ms, total: 99.8 ms\n",
      "Wall time: 101 ms\n"
     ]
    }
   ],
   "source": [
    "%%time\n",
    "DH = DockingPP.loadZdock(zdock_results, 1000)"
   ]
  },
  {
   "cell_type": "code",
   "execution_count": 6,
   "metadata": {},
   "outputs": [],
   "source": [
    "DH.setReceptor(receptor_pdb)\n",
    "DH.setLigand(ligand_pdb)"
   ]
  },
  {
   "cell_type": "code",
   "execution_count": 7,
   "metadata": {
    "scrolled": true
   },
   "outputs": [
    {
     "name": "stdout",
     "output_type": "stream",
     "text": [
      "INFO\tdockingHandler.py\t== Compute contact map ==\n",
      "number of threads : 1\n",
      "number of poses : 100\n",
      "distance : 5\n",
      "CPU times: user 143 ms, sys: 6.16 ms, total: 149 ms\n",
      "Wall time: 149 ms\n"
     ]
    }
   ],
   "source": [
    "%%time\n",
    "DH.computeContactMap(1, 100)"
   ]
  },
  {
   "cell_type": "code",
   "execution_count": 8,
   "metadata": {},
   "outputs": [
    {
     "name": "stdout",
     "output_type": "stream",
     "text": [
      "CPU times: user 3.38 ms, sys: 1 µs, total: 3.39 ms\n",
      "Wall time: 3.39 ms\n"
     ]
    }
   ],
   "source": [
    "%%time\n",
    "DH.computeFrequencies(50)"
   ]
  },
  {
   "cell_type": "code",
   "execution_count": 10,
   "metadata": {},
   "outputs": [],
   "source": [
    "DH.rescorePoses(\"contacts_sum\", 100)\n",
    "DH.rescorePoses(\"contacts_average\", 100)\n",
    "DH.rescorePoses(\"contacts_log_sum\", 100)\n",
    "DH.rescorePoses(\"contacts_square_sum\", 100)"
   ]
  },
  {
   "cell_type": "code",
   "execution_count": 17,
   "metadata": {},
   "outputs": [],
   "source": [
    "DH.rescorePoses(\"residues_sum\", 1)"
   ]
  },
  {
   "cell_type": "code",
   "execution_count": 18,
   "metadata": {},
   "outputs": [
    {
     "name": "stdout",
     "output_type": "stream",
     "text": [
      "{'contacts_sum': 38.180000000000014, 'contacts_average': 0.4061702127659576, 'contacts_log_sum': -94.55436888131206, 'contacts_square_sum': 17.90280000000001, 'residues_sum': 15.620000000000001}\n"
     ]
    }
   ],
   "source": [
    "for p in DH.poses:\n",
    "    print(p.rescoring)\n",
    "    break"
   ]
  },
  {
   "cell_type": "code",
   "execution_count": null,
   "metadata": {},
   "outputs": [],
   "source": []
  }
 ],
 "metadata": {
  "kernelspec": {
   "display_name": "Python 3",
   "language": "python",
   "name": "python3"
  },
  "language_info": {
   "codemirror_mode": {
    "name": "ipython",
    "version": 3
   },
   "file_extension": ".py",
   "mimetype": "text/x-python",
   "name": "python",
   "nbconvert_exporter": "python",
   "pygments_lexer": "ipython3",
   "version": "3.8.2"
  }
 },
 "nbformat": 4,
 "nbformat_minor": 2
}
